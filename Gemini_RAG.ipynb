{
 "cells": [
  {
   "cell_type": "markdown",
   "id": "0b13349c-78b7-47b8-afc5-ad6f69469852",
   "metadata": {},
   "source": [
    "## PDF Yüklemesinin Gerçekleştirilmesi"
   ]
  },
  {
   "cell_type": "code",
   "execution_count": 3,
   "id": "998d9f9c-9676-4c13-a9d0-239db73ad26d",
   "metadata": {},
   "outputs": [],
   "source": [
    "from langchain_community.document_loaders import PyPDFLoader\n",
    "\n",
    "loader = PyPDFLoader(\"Yazılımcıların Bilmesi Gereken Algoritmalar.pdf\")\n",
    "data = loader.load()"
   ]
  },
  {
   "cell_type": "code",
   "execution_count": 5,
   "id": "2cfa428a-e30c-43bb-bf16-26a5b4ec95e4",
   "metadata": {},
   "outputs": [
    {
     "data": {
      "text/plain": [
       "104"
      ]
     },
     "execution_count": 5,
     "metadata": {},
     "output_type": "execute_result"
    }
   ],
   "source": [
    "len(data)"
   ]
  },
  {
   "cell_type": "markdown",
   "id": "2824cc6c-9dc1-4a23-b82a-c3863a86bbfa",
   "metadata": {},
   "source": [
    "## Veriyi Parçalara Ayırma (Chunking İşlemi)\n",
    "\n",
    "* Belgeyi daha küçük parçalara ayırarak, doğru bilgiyi bu sayede daha kolay bir şekilde ulaşmaktır.\n",
    "  \n",
    "* Chunk size, genelde 512 ile 2000 arasında seçilir."
   ]
  },
  {
   "cell_type": "code",
   "execution_count": 12,
   "id": "4cf55174-44d2-4d29-9b00-3b57e601c4af",
   "metadata": {},
   "outputs": [
    {
     "name": "stdout",
     "output_type": "stream",
     "text": [
      "Total: 261\n"
     ]
    }
   ],
   "source": [
    "from langchain_text_splitters import RecursiveCharacterTextSplitter\n",
    "\n",
    "text_splitter = RecursiveCharacterTextSplitter(chunk_size=1000)\n",
    "\n",
    "docs = text_splitter.split_documents(data)\n",
    "\n",
    "print(\"Total:\", len(docs))"
   ]
  },
  {
   "cell_type": "code",
   "execution_count": 19,
   "id": "fd1584c9-b3b6-410e-95a2-d9085df30dbe",
   "metadata": {},
   "outputs": [
    {
     "data": {
      "text/plain": [
       "Document(metadata={'producer': 'Canva', 'creator': 'Canva', 'creationdate': '2025-04-25T12:07:00+00:00', 'title': 'ALGORİTMALAR E-KİTAP', 'moddate': '2025-04-25T12:06:50+00:00', 'keywords': 'DAGEeIaHfOY,BAFSm9mcL9Q,0', 'author': 'Enes Toy', 'source': 'Yazılımcıların Bilmesi Gereken Algoritmalar.pdf', 'total_pages': 104, 'page': 4, 'page_label': '5'}, page_content='Sevgili Okuyucu,\\nYazılım geliştirme, yalnızca kod yazmaktan ibaret değil; akıllı ve\\nverimli algoritmalar, modern iş dünyasında süreçleri optimize etmenin\\nve rekabet avantajı sağlamanın anahtarıdır. İster finans, sağlık, ister\\ne-ticaret sektöründe olun, güçlü algoritmalar sayesinde karmaşık\\nproblemleri çözebilir ve daha etkin çözümler üretebilirsiniz.\\nBu e-kitap, yazılım geliştiricilerin iş dünyasında ihtiyaç duyduğu temel\\nve ileri düzey algoritmaları kapsamlı ve anlaşılır bir şekilde ele alıyor.\\nAmacım, yalnızca teorik bilgiler vermek değil, aynı zamanda bu\\nalgoritmaların gerçek dünya senaryolarında nasıl uygulandığını somut\\nörneklerle göstermek. Kitap boyunca sıralama, arama, veri yapıları,\\ngraf algoritmaları gibi temel konuların yanı sıra, dinamik\\nprogramlama, böl ve fethet, geri izleme ve greedy algoritmalar gibi\\nileri seviye teknikleri de detaylıca inceleyeceğiz.\\nAyrıca, öğrendiklerinizi doğrudan pratiğe dökebilmeniz için teknik')"
      ]
     },
     "execution_count": 19,
     "metadata": {},
     "output_type": "execute_result"
    }
   ],
   "source": [
    "# doc içindeki detay bilgilerin değerlerini görmek için, dokumana herhangi bir indeks verebiliriz.\n",
    "# page_content : pdf içerisindeki asıl metni tutar.\n",
    "\n",
    "docs[5]"
   ]
  },
  {
   "cell_type": "markdown",
   "id": "3211d983-47d9-4ee1-8c00-20ef23b1fae4",
   "metadata": {},
   "source": [
    "## Google Generative AI Embedding Oluşturmak\n",
    "\n",
    "* Amaç, text verimizi sayısal bir veriye çevirmeye çalışmaktır."
   ]
  },
  {
   "cell_type": "code",
   "execution_count": 23,
   "id": "0fb37075-850b-4294-89f9-636ac46fd114",
   "metadata": {},
   "outputs": [
    {
     "data": {
      "text/plain": [
       "[0.014134909026324749,\n",
       " -0.022324152290821075,\n",
       " -0.054603420197963715,\n",
       " -0.006284549366682768,\n",
       " -0.03392402455210686]"
      ]
     },
     "execution_count": 23,
     "metadata": {},
     "output_type": "execute_result"
    }
   ],
   "source": [
    "from langchain_chroma import Chroma\n",
    "# Embedding oluşturabilmek için GoogleGenerativeAIEmbeddings paketini yükledik.\n",
    "# embbedding: metni sayısal bir vektöre dönüştürmek\n",
    "from langchain_google_genai import GoogleGenerativeAIEmbeddings\n",
    "from dotenv import load_dotenv # env içerisindeki key'i okur ve modeli otomatik olarak kullanılabilir hale geliriz.\n",
    "load_dotenv()\n",
    "\n",
    "embeddings = GoogleGenerativeAIEmbeddings(model=\"models/text-embedding-004\")\n",
    "\n",
    "# Burada verdiğimiz text ifadeyi vektöre çevirebilecek mi diye test ediyoruz. \n",
    "vector = embeddings.embed_query(\"hello, world!\") \n",
    "vector[:5] # vektörün yalnızca ilk 5 elemanını bize gösterir."
   ]
  },
  {
   "cell_type": "markdown",
   "id": "ac123fb3-3313-486f-a1c0-b2e71f490dbf",
   "metadata": {},
   "source": [
    "## ChromaDB Üzerine Kayıt İşlemi\n",
    "\n",
    "* Amaç, metinleri vektör formatında saklamaktır.\n",
    "* Bunun için metinleri vektör formatına çevirir ve ChromaDB içerisine kaydedilir.\n",
    "* Gün sonundaki amacımız, vektör veritabanında en alakalı belgeleri bulabilmektir. Yani, similarity tarafındaki en benzer alanları bulabilmektir."
   ]
  },
  {
   "cell_type": "code",
   "execution_count": 36,
   "id": "21e75725-432d-457e-ae8d-396fb1cdee26",
   "metadata": {},
   "outputs": [],
   "source": [
    "vectorstore = Chroma.from_documents(documents=docs, embedding=embeddings)\n",
    "\n",
    "# search_type'da \"similarity\" kullandık çünkü en alakalı belgeleri bulmak istiyoruz.\n",
    "# search_kwargs tarafında vereceğimiz değer, bize kaç sonuç döndüreceğimizi söyler.\n",
    "# Örneğin: k= 10 ise, en alakalı bize 10 belgeyi geri döndürür.\n",
    "# Burada sorulan soruya uygun olarak, en iyi belgeleri çekmesini sağlarız. (retriever yaparız.)\n",
    "retriever = vectorstore.as_retriever(\n",
    "    search_type=\"similarity\", search_kwargs={\"k\": 10}\n",
    ")"
   ]
  },
  {
   "cell_type": "code",
   "execution_count": 54,
   "id": "d2396492-f610-45c8-8eac-cf509babc2e2",
   "metadata": {},
   "outputs": [],
   "source": [
    "retrieved_docs = retriever.invoke(\"Bubble Sort Nedir?\")"
   ]
  },
  {
   "cell_type": "code",
   "execution_count": 56,
   "id": "3b813fda-e933-44cd-b090-1a79c8a5a8df",
   "metadata": {},
   "outputs": [
    {
     "data": {
      "text/plain": [
       "10"
      ]
     },
     "execution_count": 56,
     "metadata": {},
     "output_type": "execute_result"
    }
   ],
   "source": [
    "len(retrieved_docs)"
   ]
  },
  {
   "cell_type": "code",
   "execution_count": 58,
   "id": "13cbab05-256c-49a8-bf02-c501831bfdb9",
   "metadata": {},
   "outputs": [
    {
     "name": "stdout",
     "output_type": "stream",
     "text": [
      "bölme) tekrarlanır.\n",
      "Bu \u0000şlem, her b\u0000r alt d\u0000z\u0000 tek elemanlı hale gelene kadar devam eder.\n",
      "3.B\u0000rleşt\u0000rme:\n",
      "Alt d\u0000z\u0000ler sıralandıktan sonra, tek tek b\u0000rleşt\u0000r\u0000l\u0000r ve n\u0000ha\u0000 sıralı d\u0000z\u0000 elde ed\u0000l\u0000r.\n",
      "Adım Adım Örnek\n",
      "Örnek d\u0000z\u0000: [10, 80, 30, 90, 40, 50, 70]\n",
      "1.P\u0000vot Seç\u0000m\u0000 ve Bölme:\n",
      "İlk adımda, p\u0000vot olarak 70 seç\u0000l\u0000r.\n",
      "70'ten küçük olan elemanlar: [10, 30, 40, 50]\n",
      "70'ten büyük olan elemanlar: [80, 90]\n",
      "P\u0000vot yer\u0000nde: [10, 30, 40, 50, 70, 80, 90]\n",
      "2.Alt D\u0000z\u0000ler\u0000n Sıralanması:\n",
      "Sol taraf: [10, 30, 40, 50] →  P\u0000vot 50 seç\u0000l\u0000r, sıralama yapılır.\n",
      "Sağ taraf: [80, 90] →  P\u0000vot 90 seç\u0000l\u0000r, sıralama yapılır.\n",
      "3.Sonuç:\n",
      "N\u0000ha\u0000 sıralı d\u0000z\u0000: [10, 30, 40, 50, 70, 80, 90]\n",
      "Qu\u0000ck Sort, en kötü durumda O(n ² ) zaman karmaşıklığına sah\u0000p olab\u0000l\u0000r ancak genell\u0000kle\n",
      "O(n log n) performans göster\u0000r.\n",
      "Avantajları\n",
      "✅  Hızlıdır: Ortalama durumda O(n log n) zaman karmaşıklığıyla oldukça hızlıdır.\n",
      "✅  Yer\u0000nde sıralama yapar: Ekstra bellek kullanmaz.\n",
      "Dezavantajları\n"
     ]
    }
   ],
   "source": [
    "print(retrieved_docs[5].page_content)"
   ]
  },
  {
   "cell_type": "markdown",
   "id": "723cd64d-df60-40d3-a7d2-7e9eee3060f9",
   "metadata": {},
   "source": [
    "## Google Gemini API Yapısını Kullanarak LLM Invoke İşlemleri\n",
    "\n",
    "* Temperature, modelin yanıtlarındaki rastgeleliği ve yaratıcılığı belirler.\n",
    "\n",
    "* Temperature Değer Aralığı:\n",
    "\n",
    "    * **Düşük Değerler(0.1-0.3):** Daha kesin ve daha tutarlı cevaplar vermemizi sağlayabilir. Model, daha tahmin edilebilir hale gelir.\n",
    "    * **Orta Değerler (0.4-0.7):**  Hem mantıklı hem de yaratıcı cevaplar verebiliyor.\n",
    "    * **Yüksek Değerler(0.7-1.0):** Daha rastgele ve yaratıcı cevaplar ve bazen de belki tutarsız cevaplar verebilir.\n",
    "\n",
    "      \n",
    "\n",
    "\n",
    "*  Max_tokens, modelin ürettiği yanıtın maximum uzunluğudur. Böylece, çok uzun ve gereksiz yanıtların önüne geçip, API kullanımı tarafında da maliyeti düşürmüş oluruz.\n",
    "\n",
    "* Token: Kelime parçacığı"
   ]
  },
  {
   "cell_type": "code",
   "execution_count": 67,
   "id": "1143b489-1e5f-4368-8d52-5257cafc061d",
   "metadata": {},
   "outputs": [],
   "source": [
    "from langchain_google_genai import ChatGoogleGenerativeAI\n",
    "\n",
    "llm = ChatGoogleGenerativeAI(\n",
    "    model=\"gemini-2.0-flash-001\",\n",
    "    temperature=0.3,\n",
    "    max_tokens= 500\n",
    ")"
   ]
  },
  {
   "cell_type": "code",
   "execution_count": 75,
   "id": "1ea8b4d7-0abf-41a6-ab6c-55c5c3cf8d4e",
   "metadata": {},
   "outputs": [],
   "source": [
    "# Langchain amaç, bir dil zinciri oluşturmak\n",
    "# Gün sonunda retriever + LLM + Prompt'un birleştiği zinciri birleştiren kısım\n",
    "# Prompt Template = System prompt + User prompt\n",
    "# combine_documents => Dokümanların zincirini oluşturduğum kısım\n",
    "\n",
    "from langchain.chains import create_retrieval_chain\n",
    "from langchain_core.prompts import ChatPromptTemplate\n",
    "from langchain.chains.combine_documents import create_stuff_documents_chain"
   ]
  },
  {
   "cell_type": "code",
   "execution_count": 77,
   "id": "9c9be896-25c0-42a5-a2c0-9b701bd937ee",
   "metadata": {},
   "outputs": [],
   "source": [
    "system_prompt = (\"You are an assistant for question-answering tasks.\"\n",
    "                 \"Use the following pieces of retrieved context to answer.\"\n",
    "                 \"If you don't know the answer, say that you don't know.\"\n",
    "                 \"Use three sentences maximum and keep the answer corrects.\"\n",
    "                 \"\\n\\n\"\n",
    "                 \"{context}\"    # context: retriever'dan gelecek değere işaret ediyor.\n",
    "                 )"
   ]
  },
  {
   "cell_type": "code",
   "execution_count": 79,
   "id": "1725b6bb-74ea-4ac9-bf0c-cc1580260e4e",
   "metadata": {},
   "outputs": [],
   "source": [
    "prompt = ChatPromptTemplate(\n",
    "     [\n",
    "        (\"system\", system_prompt),\n",
    "        (\"human\", \"{input}\")\n",
    "         \n",
    "     ]\n",
    ")"
   ]
  },
  {
   "cell_type": "markdown",
   "id": "a74441df-1eb2-48e2-b1b5-e0d348deddf1",
   "metadata": {},
   "source": [
    "## Soru-Cevap Üretme Zinciri Oluşturma (LLM + Prompt)"
   ]
  },
  {
   "cell_type": "code",
   "execution_count": 82,
   "id": "8863e37a-f732-450c-88fb-d45cd16ee49c",
   "metadata": {},
   "outputs": [],
   "source": [
    "question_answer_chain = create_stuff_documents_chain(llm, prompt)"
   ]
  },
  {
   "cell_type": "markdown",
   "id": "932a11b5-0a12-4125-8ac8-c007d56b8351",
   "metadata": {},
   "source": [
    "## RAG Zinciri Oluşturma (RAG + LLM Entegrasyonun Gerçekleşmesi)\n",
    "\n",
    "*  **retriever**: Vektör veritabanındaki ilgili belgeleri bulur ve question-answer chain içerisine aktarır.\n",
    "*  **question_answer_chain**: LLM'de bu belgeleri alarak bir yanıt üretir. Yanıt da, \"response\" değişkeninde saklanır."
   ]
  },
  {
   "cell_type": "code",
   "execution_count": 93,
   "id": "60b9dd76-0b91-4542-a7f2-33976c7df31e",
   "metadata": {},
   "outputs": [],
   "source": [
    "rag_chain = create_retrieval_chain(retriever, question_answer_chain)"
   ]
  },
  {
   "cell_type": "markdown",
   "id": "87ec7661-0100-44dc-bb40-c95df81a9aef",
   "metadata": {},
   "source": [
    "## Kullanıcı Sorgusunu Çalıştırarak Cevap Üretme İşlemi"
   ]
  },
  {
   "cell_type": "code",
   "execution_count": 96,
   "id": "ba717a82-5d4a-4c14-8fa5-c355bc38d899",
   "metadata": {},
   "outputs": [],
   "source": [
    "response = rag_chain.invoke({\"input\":\"Bubble Sort Nedir?\"})"
   ]
  },
  {
   "cell_type": "code",
   "execution_count": 98,
   "id": "4a0db7a3-fa8a-4138-955d-6fb559b990b1",
   "metadata": {
    "collapsed": true,
    "jupyter": {
     "outputs_hidden": true
    },
    "scrolled": true
   },
   "outputs": [
    {
     "name": "stdout",
     "output_type": "stream",
     "text": [
      "{'input': 'Bubble Sort Nedir?', 'context': [Document(id='f8020f85-ec9f-456c-82b0-f0d2b24ea4c2', metadata={'author': 'Enes Toy', 'creationdate': '2025-04-25T12:07:00+00:00', 'creator': 'Canva', 'keywords': 'DAGEeIaHfOY,BAFSm9mcL9Q,0', 'moddate': '2025-04-25T12:06:50+00:00', 'page': 5, 'page_label': '6', 'producer': 'Canva', 'source': 'Yazılımcıların Bilmesi Gereken Algoritmalar.pdf', 'title': 'ALGORİTMALAR E-KİTAP', 'total_pages': 104}, page_content='55\\nBubble Sort Algor\\x00tması\\nBubble Sort, sıralama algor\\x00tmalarından b\\x00r\\x00d\\x00r ve oldukça bas\\x00t b\\x00r mantığa dayanır. Bu\\nalgor\\x00tma, l\\x00stedek\\x00 her öğey\\x00 b\\x00rb\\x00r\\x00yle karşılaştırır ve sırasıyla yer değ\\x00şt\\x00r\\x00r. B\\x00r d\\x00z\\x00\\n\\x00ç\\x00nde sıralama yaparken, her geç\\x00şte en büyük (veya en küçük) öğe sona \"baloncuk\"\\ng\\x00b\\x00 yüksel\\x00r. Bu \\x00şlem, tüm öğeler sıralanana kadar devam eder.\\nÇalışma Prens\\x00b\\x00\\n1.L\\x00stedek\\x00 öğeler\\x00 b\\x00rb\\x00r\\x00yle karşılaştırır.\\n2.Eğer b\\x00r öğe, b\\x00r sonrak\\x00 öğeden daha büyükse, bu \\x00k\\x00 öğe yer değ\\x00şt\\x00r\\x00r.\\n3.Bu \\x00şlem tüm l\\x00ste sıralanana kadar devam eder.\\nÖrnek\\nVarsayalım k\\x00 sıralamak \\x00sted\\x00ğ\\x00m\\x00z l\\x00ste şu şek\\x00lde olsun:\\n[5, 3, 8, 4, 2]\\nBubble Sort Algor\\x00tması Adımları\\n1. Adım (İlk Geç\\x00ş)\\n5 ve 3 karşılaştırılır, 5 > 3 olduğu \\x00ç\\x00n yer değ\\x00şt\\x00r\\x00r: [3, 5, 8, 4, 2]\\n5 ve 8 karşılaştırılır, 5 < 8 olduğu \\x00ç\\x00n değ\\x00ş\\x00kl\\x00k yapılmaz: [3, 5, 8, 4, 2]\\n8 ve 4 karşılaştırılır, 8 > 4 olduğu \\x00ç\\x00n yer değ\\x00şt\\x00r\\x00r: [3, 5, 4, 8, 2]\\n8 ve 2 karşılaştırılır, 8 > 2 olduğu \\x00ç\\x00n yer değ\\x00şt\\x00r\\x00r: [3, 5, 4, 2, 8]'), Document(id='47e1522e-a0f5-43f7-8b1f-75f9a2c1e7d7', metadata={'author': 'Enes Toy', 'creationdate': '2025-04-25T12:07:00+00:00', 'creator': 'Canva', 'keywords': 'DAGEeIaHfOY,BAFSm9mcL9Q,0', 'moddate': '2025-04-25T12:06:50+00:00', 'page': 1, 'page_label': '2', 'producer': 'Canva', 'source': 'Yazılımcıların Bilmesi Gereken Algoritmalar.pdf', 'title': 'ALGORİTMALAR E-KİTAP', 'total_pages': 104}, page_content=\"İÇİNDEKİLER\\n1 \\n1. Sıralama Algoritmaları\\n 1.1 Bubble Sort\\n 1.2 Selection Sort\\n 1.3 Insertion Sort\\n 1.4 Merge Sort\\n 1.5 Quick Sort\\n 1.6 Heap Sort\\n 1.7 Radix Sort\\n 1.8 Counting Sort\\n 1.9 Bucket Sort\\n2. Arama Algoritmaları\\n 2.1 Linear Search\\n 2.2 Binary Search\\n 2.3 Jump Search\\n 2.4 Exponential Search\\n3. Veri Yapıları Algoritmaları\\n 3.1 Linked List: Tekli, Çiftli, Döngüsel\\n 3.2 Stack (Yığın)\\n 3.3 Queue (Kuyruk)\\n 3.4 Deque (Çift Yönlü Kuyruk)\\n 3.5 Hashing ve Hash Tabloları\\n 3.6 Binary Search Tree (BST)\\n 3.7 AVL Tree (Self-balancing Binary Search Tree)\\n 3.8 Red-Black Tree\\n 3.9 Trie\\n 3.10 Heap (Min-Heap, Max-Heap)\\n 3.11 Graph Veri Yapıları (Adjacency List, Matrix)\\n4. Graf Algoritmaları\\n 4.1 Depth-First Search (DFS)\\n 4.2 Breadth-First Search (BFS)\\n 4.3 Dijkstra's Algorithm (Kısa Yol Algoritması)\\n 4.4 Bellman-Ford Algorithm\\n 4.5 Floyd-Warshall Algorithm (Tüm Çiftler Arası En Kısa Yol)\\n 4.6 Kruskal's Algorithm (MST - Minimum Spanning Tree)\\n 4.7 Prim's Algorithm (MST)\\n 4.8 Topological Sorting\"), Document(id='4a895db9-dc8b-4bf0-8782-92e3f0c56e74', metadata={'author': 'Enes Toy', 'creationdate': '2025-04-25T12:07:00+00:00', 'creator': 'Canva', 'keywords': 'DAGEeIaHfOY,BAFSm9mcL9Q,0', 'moddate': '2025-04-25T12:06:50+00:00', 'page': 57, 'page_label': '58', 'producer': 'Canva', 'source': 'Yazılımcıların Bilmesi Gereken Algoritmalar.pdf', 'title': 'ALGORİTMALAR E-KİTAP', 'total_pages': 104}, page_content='En \\x00y\\x00 durum: O(n log n)\\nOrtalama durum: O(n log n)\\nEn kötü durum: O(n log n)\\nBu nedenle Merge Sort, büyük ver\\x00 kümeler\\x00 \\x00ç\\x00n oldukça ver\\x00ml\\x00 b\\x00r sıralama\\nalgor\\x00tmasıdır.\\nAvantajları\\n✅  Stab\\x00l b\\x00r algor\\x00tmadır: Aynı değerlere sah\\x00p elemanların sıralanma sırası korunur.\\n✅  Büyük ver\\x00 kümeler\\x00 \\x00ç\\x00n etk\\x00l\\x00d\\x00r.\\n✅  Kötü durum senaryolarında b\\x00le O(n log n) karmaşıklığını korur.\\nDezavantajları\\n❌  Ekstra bellek gerekt\\x00r\\x00r: Yen\\x00 d\\x00z\\x00ler oluşturulduğu \\x00ç\\x00n O(n) ek bellek kullanımına\\n\\x00ht\\x00yaç duyar.\\n❌  Küçük ver\\x00 kümeler\\x00 \\x00ç\\x00n daha yavaş olab\\x00l\\x00r.\\nKullanım Alanları\\nBüyük ver\\x00 kümeler\\x00 ve dosya sıralama: Özell\\x00kle d\\x00sk tabanlı algor\\x00tmalarda, dış\\nsıralama algor\\x00tmalarında kullanılır. Büyük ver\\x00n\\x00n belleğe sığmadığı durumlarda\\nmerge sort, dış bellek sıralama (external sort\\x00ng) \\x00ç\\x00n yaygın olarak terc\\x00h ed\\x00l\\x00r.\\nStab\\x00l sıralama gerekt\\x00ren durumlar: Aynı değerlere sah\\x00p öğeler\\x00n sıralama sırasının\\nkorunması gerekt\\x00ğ\\x00nde (örneğ\\x00n, ver\\x00tabanlarında kayıtların sıralanması), Merge Sort\\nkullanılır.'), Document(id='f1e1722d-159a-4ea4-9d23-af5b4db045b4', metadata={'author': 'Enes Toy', 'creationdate': '2025-04-25T12:07:00+00:00', 'creator': 'Canva', 'keywords': 'DAGEeIaHfOY,BAFSm9mcL9Q,0', 'moddate': '2025-04-25T12:06:50+00:00', 'page': 58, 'page_label': '59', 'producer': 'Canva', 'source': 'Yazılımcıların Bilmesi Gereken Algoritmalar.pdf', 'title': 'ALGORİTMALAR E-KİTAP', 'total_pages': 104}, page_content='5 5 \\nQu\\x00ck Sort Algor\\x00tması\\nQu\\x00ck Sort, \"D\\x00v\\x00de and Conquer\" (Böl ve Fethet) stratej\\x00s\\x00n\\x00 kullanan hızlı ve ver\\x00ml\\x00 b\\x00r\\nsıralama algor\\x00tmasıdır. Algor\\x00tma, b\\x00r p\\x00vot (dönel nokta) seçerek d\\x00z\\x00y\\x00 küçük ve büyük\\nolmak üzere \\x00k\\x00 alt gruba ayırır ve ardından bu alt grupları ayrı ayrı sıralar.\\nQu\\x00ck Sort\\'un Çalışma Mantığı\\n1.P\\x00vot Seç\\x00m\\x00:\\nD\\x00z\\x00den rastgele veya bel\\x00rl\\x00 b\\x00r kurala göre b\\x00r p\\x00vot eleman seç\\x00l\\x00r.\\n2.Bölme (Part\\x00t\\x00on\\x00ng):\\nSeç\\x00len p\\x00vot eleman etrafında d\\x00z\\x00n\\x00n elemanları yen\\x00den düzenlen\\x00r.\\nP\\x00vot\\'tan küçük olanlar sol tarafa, büyük olanlar sağ tarafa yerleşt\\x00r\\x00l\\x00r.\\n3.Rekurs\\x00f Sıralama:\\nSol ve sağ alt d\\x00z\\x00ler \\x00ç\\x00n aynı \\x00şlem tekrar ed\\x00l\\x00r.\\nAlt d\\x00z\\x00ler tek eleman kalana kadar bölünmeye devam eder.\\nQu\\x00ck Sort\\'un Zaman Karmaşıklığı\\nEn \\x00y\\x00 durum: O(n log n)\\nOrtalama durum: O(n log n)\\nEn kötü durum: O(n ² ) (Eğer p\\x00vot seç\\x00m\\x00 kötü yapılırsa)\\nAvantajları\\n✅  Hızlıdır: Ortalama durumda Merge Sort \\x00le benzer performansa sah\\x00pt\\x00r.'), Document(id='797cb3e1-47b0-47c2-bda3-e6cf7983c072', metadata={'author': 'Enes Toy', 'creationdate': '2025-04-25T12:07:00+00:00', 'creator': 'Canva', 'keywords': 'DAGEeIaHfOY,BAFSm9mcL9Q,0', 'moddate': '2025-04-25T12:06:50+00:00', 'page': 15, 'page_label': '16', 'producer': 'Canva', 'source': 'Yazılımcıların Bilmesi Gereken Algoritmalar.pdf', 'title': 'ALGORİTMALAR E-KİTAP', 'total_pages': 104}, page_content='5 5 \\nSıralama Algor\\x00tmaları\\n1 5 \\nBucket Sort\\nBucket Sort, sıralama algor\\x00tmalarından b\\x00r\\x00d\\x00r ve genell\\x00kle sayılar bel\\x00rl\\x00 b\\x00r aralıkta ve\\nb\\x00rb\\x00r\\x00ne yakın olduğunda oldukça ver\\x00ml\\x00d\\x00r. Bu algor\\x00tma, d\\x00z\\x00y\\x00 bel\\x00rl\\x00 aralıklara (veya\\n\"kovalara\") ayırır, ardından her kova \\x00ç\\x00ndek\\x00 elemanları sıralar ve tüm kova elemanları\\nb\\x00rleşt\\x00r\\x00lerek sıralı b\\x00r d\\x00z\\x00 elde ed\\x00l\\x00r.\\nAlgor\\x00tmanın Çalışma Prens\\x00b\\x00\\n1.Kovaları (Buckets) Oluşturma:\\nİlk olarak, sıralanacak elemanların değerler\\x00ne göre b\\x00r d\\x00z\\x00 kova oluşturulur.\\nBu kovalar, genell\\x00kle elemanların değer\\x00 bel\\x00rl\\x00 b\\x00r aralığa yayılacak şek\\x00lde\\ntasarlanır. Kovaların sayısı, genell\\x00kle d\\x00z\\x00n\\x00n eleman sayısına eş\\x00t ya da b\\x00raz\\ndaha fazla olab\\x00l\\x00r.\\n2.Elemanları Kovalarına Dağıtma:\\nHer b\\x00r eleman, değer\\x00 doğrultusunda uygun kovanın \\x00ç\\x00ne yerleşt\\x00r\\x00l\\x00r.\\n3.Her Kovada Sıralama Yapma:\\nKovaların \\x00ç\\x00ne yerleşt\\x00r\\x00len elemanlar, genell\\x00kle hızlı sıralama algor\\x00tmaları\\n(örneğ\\x00n, Insert\\x00on Sort) \\x00le sıralanır.\\n4.Tüm Kovaları B\\x00rleşt\\x00rme:'), Document(id='28e25813-43de-44f9-be69-6674bc87b8f6', metadata={'author': 'Enes Toy', 'creationdate': '2025-04-25T12:07:00+00:00', 'creator': 'Canva', 'keywords': 'DAGEeIaHfOY,BAFSm9mcL9Q,0', 'moddate': '2025-04-25T12:06:50+00:00', 'page': 9, 'page_label': '10', 'producer': 'Canva', 'source': 'Yazılımcıların Bilmesi Gereken Algoritmalar.pdf', 'title': 'ALGORİTMALAR E-KİTAP', 'total_pages': 104}, page_content=\"bölme) tekrarlanır.\\nBu \\x00şlem, her b\\x00r alt d\\x00z\\x00 tek elemanlı hale gelene kadar devam eder.\\n3.B\\x00rleşt\\x00rme:\\nAlt d\\x00z\\x00ler sıralandıktan sonra, tek tek b\\x00rleşt\\x00r\\x00l\\x00r ve n\\x00ha\\x00 sıralı d\\x00z\\x00 elde ed\\x00l\\x00r.\\nAdım Adım Örnek\\nÖrnek d\\x00z\\x00: [10, 80, 30, 90, 40, 50, 70]\\n1.P\\x00vot Seç\\x00m\\x00 ve Bölme:\\nİlk adımda, p\\x00vot olarak 70 seç\\x00l\\x00r.\\n70'ten küçük olan elemanlar: [10, 30, 40, 50]\\n70'ten büyük olan elemanlar: [80, 90]\\nP\\x00vot yer\\x00nde: [10, 30, 40, 50, 70, 80, 90]\\n2.Alt D\\x00z\\x00ler\\x00n Sıralanması:\\nSol taraf: [10, 30, 40, 50] →  P\\x00vot 50 seç\\x00l\\x00r, sıralama yapılır.\\nSağ taraf: [80, 90] →  P\\x00vot 90 seç\\x00l\\x00r, sıralama yapılır.\\n3.Sonuç:\\nN\\x00ha\\x00 sıralı d\\x00z\\x00: [10, 30, 40, 50, 70, 80, 90]\\nQu\\x00ck Sort, en kötü durumda O(n ² ) zaman karmaşıklığına sah\\x00p olab\\x00l\\x00r ancak genell\\x00kle\\nO(n log n) performans göster\\x00r.\\nAvantajları\\n✅  Hızlıdır: Ortalama durumda O(n log n) zaman karmaşıklığıyla oldukça hızlıdır.\\n✅  Yer\\x00nde sıralama yapar: Ekstra bellek kullanmaz.\\nDezavantajları\"), Document(id='19f3f998-79d2-4b00-bf65-2cad494f0eb4', metadata={'author': 'Enes Toy', 'creationdate': '2025-04-25T12:07:00+00:00', 'creator': 'Canva', 'keywords': 'DAGEeIaHfOY,BAFSm9mcL9Q,0', 'moddate': '2025-04-25T12:06:50+00:00', 'page': 10, 'page_label': '11', 'producer': 'Canva', 'source': 'Yazılımcıların Bilmesi Gereken Algoritmalar.pdf', 'title': 'ALGORİTMALAR E-KİTAP', 'total_pages': 104}, page_content=\"sağlanır: [4, 1, 3]\\nSon adımda, sıralı d\\x00z\\x00 elde ed\\x00l\\x00r: [1, 3, 4, 5, 10]\\nHeap Sort, her durumda O(n log n) zaman karmaşıklığına sah\\x00pt\\x00r. Bu nedenle, özell\\x00kle\\nyavaş bellek alanlarında ve sıralama sırasında ek bellek kullanımının düşük olmasının\\nöneml\\x00 olduğu durumlarda oldukça ver\\x00ml\\x00d\\x00r.\\nAvantajları\\n✅  Zaman karmaşıklığı: Heap Sort her durumda O(n log n) performans göster\\x00r.\\n✅  Yer\\x00nde sıralama: Ekstra bellek kullanmaz. Bellek karmaşıklığı O(1)'d\\x00r.\\n✅  Stab\\x00l sıralama değ\\x00ld\\x00r: Aynı elemanlar sıralandıktan sonra sırası değ\\x00şeb\\x00l\\x00r.\\nDezavantajları\\n❌  İst\\x00krarsız sıralama: Heap Sort, kararlı (stable) b\\x00r sıralama algor\\x00tması değ\\x00ld\\x00r, yan\\x00\\naynı değere sah\\x00p elemanların sırası değ\\x00şeb\\x00l\\x00r.\\n❌  Hızlı değ\\x00l: D\\x00ğer sıralama algor\\x00tmaları (örneğ\\x00n Qu\\x00ck Sort) genell\\x00kle daha hızlıdır,\\nçünkü heap yapılarını kurma ve yen\\x00den düzenleme \\x00şlemler\\x00 zaman alab\\x00l\\x00r.\"), Document(id='08eebfe9-7d84-4f2e-acbf-6db37ce6ac54', metadata={'author': 'Enes Toy', 'creationdate': '2025-04-25T12:07:00+00:00', 'creator': 'Canva', 'keywords': 'DAGEeIaHfOY,BAFSm9mcL9Q,0', 'moddate': '2025-04-25T12:06:50+00:00', 'page': 57, 'page_label': '58', 'producer': 'Canva', 'source': 'Yazılımcıların Bilmesi Gereken Algoritmalar.pdf', 'title': 'ALGORİTMALAR E-KİTAP', 'total_pages': 104}, page_content='5 5 \\nMerge Sort Algor\\x00tması\\nMerge Sort, \"D\\x00v\\x00de and Conquer\" (Böl ve Fethet) stratej\\x00s\\x00n\\x00 kullanan etk\\x00l\\x00 b\\x00r sıralama\\nalgor\\x00tmasıdır. Algor\\x00tma, b\\x00r d\\x00z\\x00y\\x00 küçük parçalara ayırarak sıralar ve ardından bu\\nparçaları b\\x00rleşt\\x00rerek sıralı hale get\\x00r\\x00r.\\nMerge Sort\\'un Çalışma Mantığı\\n1.Bölme (D\\x00v\\x00de):\\nD\\x00z\\x00, ortadan \\x00k\\x00ye bölünerek alt d\\x00z\\x00lere ayrılır.\\nBu \\x00şlem, her alt d\\x00z\\x00 tek b\\x00r elemana sah\\x00p olana kadar devam eder.\\n2.Fethetme (Conquer):\\nTek elemanlı d\\x00z\\x00ler zaten sıralıdır.\\nİk\\x00l\\x00 gruplar hal\\x00nde b\\x00rleşt\\x00r\\x00lerek sıralı d\\x00z\\x00ler oluşturulur.\\nKüçük d\\x00z\\x00ler b\\x00rleşerek daha büyük sıralı d\\x00z\\x00ler hal\\x00ne get\\x00r\\x00l\\x00r.\\n3.B\\x00rleşt\\x00rme (Comb\\x00ne):\\nAlt d\\x00z\\x00ler, karşılaştırmalar yapılarak b\\x00rleşt\\x00r\\x00l\\x00r ve tam sıralı d\\x00z\\x00 elde ed\\x00l\\x00r.\\nMerge Sort\\'un Zaman Karmaşıklığı\\nEn \\x00y\\x00 durum: O(n log n)\\nOrtalama durum: O(n log n)\\nEn kötü durum: O(n log n)\\nBu nedenle Merge Sort, büyük ver\\x00 kümeler\\x00 \\x00ç\\x00n oldukça ver\\x00ml\\x00 b\\x00r sıralama\\nalgor\\x00tmasıdır.\\nAvantajları'), Document(id='2e83c40d-94f8-4a02-b301-6e7f263edbab', metadata={'author': 'Enes Toy', 'creationdate': '2025-04-25T12:07:00+00:00', 'creator': 'Canva', 'keywords': 'DAGEeIaHfOY,BAFSm9mcL9Q,0', 'moddate': '2025-04-25T12:06:50+00:00', 'page': 5, 'page_label': '6', 'producer': 'Canva', 'source': 'Yazılımcıların Bilmesi Gereken Algoritmalar.pdf', 'title': 'ALGORİTMALAR E-KİTAP', 'total_pages': 104}, page_content='En \\x00y\\x00 durum: O(n) (Eğer l\\x00ste zaten sıralıysa)\\nKüçük ver\\x00 setler\\x00 \\x00ç\\x00n uygundur, ancak büyük ver\\x00 setler\\x00nde ver\\x00ml\\x00 değ\\x00ld\\x00r.\\nAvantajları\\n✅  Bas\\x00t ve anlaşılır: Uygulaması ve kavranması kolaydır.\\n✅  Yer\\x00nde sıralama: Ekstra belleğe \\x00ht\\x00yaç duymaz.\\n✅  Neredeyse sıralı d\\x00z\\x00lerde hızlı olab\\x00l\\x00r: En \\x00y\\x00 durumda O(n).\\nDezavantajları\\n❌  Ver\\x00ms\\x00z: Büyük ver\\x00 kümeler\\x00nde yavaş çalışır (O(n ² )).\\n❌  Profesyonel uygulamalarda terc\\x00h ed\\x00lmez: Daha hızlı sıralama algor\\x00tmaları vardır\\n(Qu\\x00ck Sort, Merge Sort g\\x00b\\x00).\\nSıralama Algor\\x00tmaları\\n5'), Document(id='533cc0eb-35af-4722-94b3-79fcecad3f4a', metadata={'author': 'Enes Toy', 'creationdate': '2025-04-25T12:07:00+00:00', 'creator': 'Canva', 'keywords': 'DAGEeIaHfOY,BAFSm9mcL9Q,0', 'moddate': '2025-04-25T12:06:50+00:00', 'page': 2, 'page_label': '3', 'producer': 'Canva', 'source': 'Yazılımcıların Bilmesi Gereken Algoritmalar.pdf', 'title': 'ALGORİTMALAR E-KİTAP', 'total_pages': 104}, page_content=\"İÇİNDEKİLER\\n2 \\n5. Dinamik Programlama Algoritmaları\\n 5.1 Fibonacci Sequence\\n 5.2 Knapsack Problem\\n 5.3 Longest Common Subsequence (LCS)\\n 5.4 Longest Increasing Subsequence (LIS)\\n 5.5 Coin Change Problem\\n 5.6 Matrix Chain Multiplication\\n 5.7 Rod Cutting Problem\\n 5.8 Edit Distance (Levenshtein Distance)\\n6. Böl ve Fethet (Divide and Conquer) Algoritmaları\\n 6.1 Merge Sort\\n 6.2 Quick Sort\\n 6.3 Binary Search\\n 6.4 Strassen's Matrix Multiplication\\n7. Geri İzleme (Backtracking) Algoritmaları\\n 7.1 N-Queens Problem\\n 7.2 Subset Sum Problem\\n 7.3 Sudoku Solver\\n 7.4 Graph Coloring\\n 7.5 Hamiltonian Path\\n8. Greedy Algoritmalar\\n 8.1 Fractional Knapsack Problem\\n 8.2 Huffman Coding\\n 8.3 Activity Selection Problem\\n 8.4 Job Scheduling Problem\\n 8.5 Prim’s Algorithm (MST)\\n9. İleri Seviye Algoritmalar\\n 9.1 Floyd’s Cycle-Finding Algorithm (Tortoise and Hare)\\n 9.2 Topological Sort\\n 9.3 Sieve of Eratosthenes\\n 9.4 Union-Find (Disjoint Set)\\n 9.5 Turing Machines\")], 'answer': 'Bubble Sort, listedeki her öğeyi birbiriyle karşılaştırıp sırasıyla yer değiştiren basit bir sıralama algoritmasıdır. Bir dizi içinde sıralama yaparken, her geçişte en büyük (veya en küçük) öğe sona doğru yükselir. Bu işlem, tüm öğeler sıralanana kadar devam eder.'}\n"
     ]
    }
   ],
   "source": [
    "print(response)"
   ]
  },
  {
   "cell_type": "code",
   "execution_count": 100,
   "id": "0fcfd9c2-202c-45d1-a1ba-c977f807598b",
   "metadata": {},
   "outputs": [
    {
     "name": "stdout",
     "output_type": "stream",
     "text": [
      "Bubble Sort, listedeki her öğeyi birbiriyle karşılaştırıp sırasıyla yer değiştiren basit bir sıralama algoritmasıdır. Bir dizi içinde sıralama yaparken, her geçişte en büyük (veya en küçük) öğe sona doğru yükselir. Bu işlem, tüm öğeler sıralanana kadar devam eder.\n"
     ]
    }
   ],
   "source": [
    "print(response['answer'])"
   ]
  },
  {
   "cell_type": "code",
   "execution_count": null,
   "id": "25baaea5-fc00-49c1-a6ed-aa4b90c8ccbb",
   "metadata": {},
   "outputs": [],
   "source": []
  }
 ],
 "metadata": {
  "kernelspec": {
   "display_name": "Python [conda env:rag_env]",
   "language": "python",
   "name": "conda-env-rag_env-py"
  },
  "language_info": {
   "codemirror_mode": {
    "name": "ipython",
    "version": 3
   },
   "file_extension": ".py",
   "mimetype": "text/x-python",
   "name": "python",
   "nbconvert_exporter": "python",
   "pygments_lexer": "ipython3",
   "version": "3.10.16"
  }
 },
 "nbformat": 4,
 "nbformat_minor": 5
}
